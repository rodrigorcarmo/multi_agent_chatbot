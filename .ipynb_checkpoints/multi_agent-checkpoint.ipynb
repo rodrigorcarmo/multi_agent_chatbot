{
 "cells": [
  {
   "cell_type": "code",
   "execution_count": 2,
   "id": "73d4b701",
   "metadata": {},
   "outputs": [],
   "source": [
    "import pandas as pd"
   ]
  },
  {
   "cell_type": "code",
   "execution_count": 3,
   "id": "92546e46",
   "metadata": {},
   "outputs": [],
   "source": [
    "df = pd.read_excel(\"dataset/Customer_Feedback_Dataset.xlsx\")"
   ]
  },
  {
   "cell_type": "code",
   "execution_count": 4,
   "id": "00f22853",
   "metadata": {},
   "outputs": [
    {
     "data": {
      "text/html": [
       "<div>\n",
       "<style scoped>\n",
       "    .dataframe tbody tr th:only-of-type {\n",
       "        vertical-align: middle;\n",
       "    }\n",
       "\n",
       "    .dataframe tbody tr th {\n",
       "        vertical-align: top;\n",
       "    }\n",
       "\n",
       "    .dataframe thead th {\n",
       "        text-align: right;\n",
       "    }\n",
       "</style>\n",
       "<table border=\"1\" class=\"dataframe\">\n",
       "  <thead>\n",
       "    <tr style=\"text-align: right;\">\n",
       "      <th></th>\n",
       "      <th>feedback_id</th>\n",
       "      <th>customer_id</th>\n",
       "      <th>feedback_text</th>\n",
       "      <th>feedback_category</th>\n",
       "      <th>date</th>\n",
       "      <th>sentiment</th>\n",
       "      <th>response_required</th>\n",
       "      <th>response_time</th>\n",
       "      <th>resolved</th>\n",
       "    </tr>\n",
       "  </thead>\n",
       "  <tbody>\n",
       "    <tr>\n",
       "      <th>0</th>\n",
       "      <td>1</td>\n",
       "      <td>4174</td>\n",
       "      <td>Excellent value for money!</td>\n",
       "      <td>Product Quality</td>\n",
       "      <td>2023-06-05</td>\n",
       "      <td>positive</td>\n",
       "      <td>Yes</td>\n",
       "      <td>15.0</td>\n",
       "      <td>Yes</td>\n",
       "    </tr>\n",
       "    <tr>\n",
       "      <th>1</th>\n",
       "      <td>2</td>\n",
       "      <td>4507</td>\n",
       "      <td>Not satisfied with the service.</td>\n",
       "      <td>Product Quality</td>\n",
       "      <td>2023-10-02</td>\n",
       "      <td>positive</td>\n",
       "      <td>No</td>\n",
       "      <td>29.0</td>\n",
       "      <td>No</td>\n",
       "    </tr>\n",
       "    <tr>\n",
       "      <th>2</th>\n",
       "      <td>3</td>\n",
       "      <td>1860</td>\n",
       "      <td>The pricing is too high for what you get.</td>\n",
       "      <td>Delivery</td>\n",
       "      <td>2023-08-10</td>\n",
       "      <td>positive</td>\n",
       "      <td>Yes</td>\n",
       "      <td>NaN</td>\n",
       "      <td>No</td>\n",
       "    </tr>\n",
       "    <tr>\n",
       "      <th>3</th>\n",
       "      <td>4</td>\n",
       "      <td>2294</td>\n",
       "      <td>Great product, but the delivery was late.</td>\n",
       "      <td>Pricing</td>\n",
       "      <td>2023-03-04</td>\n",
       "      <td>neutral</td>\n",
       "      <td>No</td>\n",
       "      <td>NaN</td>\n",
       "      <td>No</td>\n",
       "    </tr>\n",
       "    <tr>\n",
       "      <th>4</th>\n",
       "      <td>5</td>\n",
       "      <td>2130</td>\n",
       "      <td>The delivery was fast and the product is good.</td>\n",
       "      <td>Delivery</td>\n",
       "      <td>2023-06-22</td>\n",
       "      <td>positive</td>\n",
       "      <td>Yes</td>\n",
       "      <td>NaN</td>\n",
       "      <td>No</td>\n",
       "    </tr>\n",
       "  </tbody>\n",
       "</table>\n",
       "</div>"
      ],
      "text/plain": [
       "   feedback_id  customer_id                                   feedback_text  \\\n",
       "0            1         4174                      Excellent value for money!   \n",
       "1            2         4507                 Not satisfied with the service.   \n",
       "2            3         1860       The pricing is too high for what you get.   \n",
       "3            4         2294       Great product, but the delivery was late.   \n",
       "4            5         2130  The delivery was fast and the product is good.   \n",
       "\n",
       "  feedback_category       date sentiment response_required  response_time  \\\n",
       "0   Product Quality 2023-06-05  positive               Yes           15.0   \n",
       "1   Product Quality 2023-10-02  positive                No           29.0   \n",
       "2          Delivery 2023-08-10  positive               Yes            NaN   \n",
       "3           Pricing 2023-03-04   neutral                No            NaN   \n",
       "4          Delivery 2023-06-22  positive               Yes            NaN   \n",
       "\n",
       "  resolved  \n",
       "0      Yes  \n",
       "1       No  \n",
       "2       No  \n",
       "3       No  \n",
       "4       No  "
      ]
     },
     "execution_count": 4,
     "metadata": {},
     "output_type": "execute_result"
    }
   ],
   "source": [
    "df.head(5)"
   ]
  },
  {
   "cell_type": "code",
   "execution_count": 5,
   "id": "29b1c10d",
   "metadata": {},
   "outputs": [],
   "source": [
    "df.to_csv(\"dataset/Customer_Feedback_Dataset.csv\",sep=\";\")"
   ]
  },
  {
   "cell_type": "code",
   "execution_count": 7,
   "id": "d68a86ee",
   "metadata": {},
   "outputs": [
    {
     "name": "stdout",
     "output_type": "stream",
     "text": [
      "zsh:1: no matches found: transformers[sentencepiece]\r\n"
     ]
    }
   ],
   "source": [
    "!pip install datasets evaluate transformers[sentencepiece]"
   ]
  },
  {
   "cell_type": "code",
   "execution_count": 6,
   "id": "ff49214c",
   "metadata": {},
   "outputs": [
    {
     "ename": "ModuleNotFoundError",
     "evalue": "No module named 'datasets'",
     "output_type": "error",
     "traceback": [
      "\u001b[0;31m---------------------------------------------------------------------------\u001b[0m",
      "\u001b[0;31mModuleNotFoundError\u001b[0m                       Traceback (most recent call last)",
      "Cell \u001b[0;32mIn[6], line 1\u001b[0m\n\u001b[0;32m----> 1\u001b[0m \u001b[38;5;28;01mfrom\u001b[39;00m \u001b[38;5;21;01mdatasets\u001b[39;00m \u001b[38;5;28;01mimport\u001b[39;00m load_dataset\n",
      "\u001b[0;31mModuleNotFoundError\u001b[0m: No module named 'datasets'"
     ]
    }
   ],
   "source": [
    "from datasets import load_dataset"
   ]
  },
  {
   "cell_type": "code",
   "execution_count": null,
   "id": "c81fabe9",
   "metadata": {},
   "outputs": [],
   "source": []
  }
 ],
 "metadata": {
  "kernelspec": {
   "display_name": "Python 3 (ipykernel)",
   "language": "python",
   "name": "python3"
  },
  "language_info": {
   "codemirror_mode": {
    "name": "ipython",
    "version": 3
   },
   "file_extension": ".py",
   "mimetype": "text/x-python",
   "name": "python",
   "nbconvert_exporter": "python",
   "pygments_lexer": "ipython3",
   "version": "3.11.3"
  }
 },
 "nbformat": 4,
 "nbformat_minor": 5
}
